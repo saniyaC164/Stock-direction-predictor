{
 "cells": [
  {
   "cell_type": "code",
   "execution_count": 4,
   "id": "d30e3940-5d7f-46dd-ba76-2adb9f54e95d",
   "metadata": {},
   "outputs": [
    {
     "name": "stdout",
     "output_type": "stream",
     "text": [
      "Setup successful! TensorFlow version: 2.20.0\n"
     ]
    }
   ],
   "source": [
    "import pandas as pd\n",
    "import numpy as np\n",
    "import tensorflow as tf\n",
    "from tensorflow.keras.models import Sequential\n",
    "from tensorflow.keras.layers import LSTM, Dense\n",
    "import yfinance as yf\n",
    "from textblob import TextBlob\n",
    "from sklearn.model_selection import train_test_split\n",
    "from sklearn.preprocessing import MinMaxScaler\n",
    "from sklearn.metrics import accuracy_score, classification_report\n",
    "import matplotlib.pyplot as plt\n",
    "import seaborn as sns\n",
    "import requests\n",
    "from datetime import datetime, timedelta\n",
    "print(\"Setup successful! TensorFlow version:\", tf.__version__)"
   ]
  },
  {
   "cell_type": "code",
   "execution_count": 14,
   "id": "f8e3c124-138f-4327-8781-778dcff0f810",
   "metadata": {},
   "outputs": [],
   "source": [
    "STOCK_TICKER = 'TSLA'  # Example: Tesla; change to AAPL, etc.\n",
    "START_DATE = '2022-01-01' \n",
    "END_DATE = datetime.now().strftime('%Y-%m-%d')  # Today"
   ]
  },
  {
   "cell_type": "code",
   "execution_count": 15,
   "id": "31c11d00-b64d-47de-8a4f-51293a7546ab",
   "metadata": {},
   "outputs": [
    {
     "name": "stderr",
     "output_type": "stream",
     "text": [
      "C:\\Users\\saniya\\AppData\\Local\\Temp\\ipykernel_12236\\510036798.py:2: FutureWarning: YF.download() has changed argument auto_adjust default to True\n",
      "  stock_data = yf.download(STOCK_TICKER, start=START_DATE, end=END_DATE)\n",
      "[*********************100%***********************]  1 of 1 completed"
     ]
    },
    {
     "name": "stdout",
     "output_type": "stream",
     "text": [
      "Stock Data Sample:\n",
      "Price            Close        High         Low        Open     Volume  \\\n",
      "Ticker            TSLA        TSLA        TSLA        TSLA       TSLA   \n",
      "Date                                                                    \n",
      "2022-01-04  383.196655  402.666656  374.350006  396.516663  100248300   \n",
      "2022-01-05  362.706665  390.113342  360.336670  382.216675   80119800   \n",
      "2022-01-06  354.899994  362.666656  340.166656  359.000000   90336600   \n",
      "2022-01-07  342.320007  360.309998  336.666656  360.123322   84164700   \n",
      "2022-01-10  352.706665  353.033325  326.666656  333.333344   91815000   \n",
      "\n",
      "Price         Return Target  \n",
      "Ticker                       \n",
      "Date                         \n",
      "2022-01-04 -0.041833      0  \n",
      "2022-01-05 -0.053471      0  \n",
      "2022-01-06 -0.021523      0  \n",
      "2022-01-07 -0.035447      1  \n",
      "2022-01-10  0.030342      1  \n",
      "Shape: (917, 7)\n"
     ]
    },
    {
     "name": "stderr",
     "output_type": "stream",
     "text": [
      "\n"
     ]
    }
   ],
   "source": [
    "# Fetch stock data\n",
    "stock_data = yf.download(STOCK_TICKER, start=START_DATE, end=END_DATE)\n",
    "stock_data['Return'] = stock_data['Close'].pct_change()  # Daily return\n",
    "stock_data['Target'] = np.where(stock_data['Return'].shift(-1) > 0, 1, 0)  # Binary: 1 = up, 0 = down (shifted for prediction)\n",
    "\n",
    "# Drop NaN rows (from shifts)\n",
    "stock_data = stock_data.dropna()\n",
    "\n",
    "print(\"Stock Data Sample:\")\n",
    "print(stock_data.head())\n",
    "print(f\"Shape: {stock_data.shape}\")"
   ]
  },
  {
   "cell_type": "code",
   "execution_count": 17,
   "id": "58a08160-d009-4aff-84ca-4523e8a76c25",
   "metadata": {},
   "outputs": [
    {
     "name": "stdout",
     "output_type": "stream",
     "text": [
      "Sentiment Data Sample:\n",
      "            Sentiment\n",
      "Date                 \n",
      "2022-01-04   0.470939\n",
      "2022-01-05  -0.115466\n",
      "2022-01-06   0.205389\n",
      "2022-01-07   0.419291\n",
      "2022-01-10  -0.343225\n",
      "\n",
      "Recent Sentiment Sample (check for non-zeros):\n",
      "            Sentiment\n",
      "Date                 \n",
      "2025-08-25   0.144146\n",
      "2025-08-26   0.430412\n",
      "2025-08-27  -0.144296\n",
      "2025-08-28   0.068655\n",
      "2025-08-29  -0.474268\n",
      "\n",
      "Sentiment Stats (mean should be non-zero if data fetched):\n",
      "        Sentiment\n",
      "count  917.000000\n",
      "mean     0.012979\n",
      "std      0.295827\n",
      "min     -0.498828\n",
      "25%     -0.240411\n",
      "50%      0.011044\n",
      "75%      0.270588\n",
      "max      0.499253\n"
     ]
    }
   ],
   "source": [
    "\n",
    "# Alpha Vantage API setup (unchanged)\n",
    "ALPHA_VANTAGE_URL = 'https://www.alphavantage.co/query'\n",
    "ALPHA_VANTAGE_KEY = 'your_key_here'  # Replace with your key\n",
    "\n",
    "# Function to fetch sentiment for a date range (batch) - unchanged\n",
    "def fetch_sentiment_batch(time_from, time_to):\n",
    "    params = {\n",
    "        'function': 'NEWS_SENTIMENT',\n",
    "        'tickers': STOCK_TICKER,\n",
    "        'time_from': time_from,  # Format: YYYYMMDDT0000\n",
    "        'time_to': time_to,\n",
    "        'limit': 1000,\n",
    "        'apikey': ALPHA_VANTAGE_KEY\n",
    "    }\n",
    "    response = requests.get(ALPHA_VANTAGE_URL, params=params)\n",
    "    if response.status_code != 200:\n",
    "        print(f\"Error fetching sentiment: {response.text}\")\n",
    "        return {}\n",
    "    \n",
    "    data = response.json().get('feed', [])\n",
    "    daily_sentiments = {}  # date: list of scores\n",
    "    for article in data:\n",
    "        pub_time = article.get('time_published', '')[:8]  # YYYYMMDD\n",
    "        for ts in article.get('ticker_sentiment', []):\n",
    "            if ts.get('ticker') == STOCK_TICKER:\n",
    "                score = float(ts.get('ticker_sentiment_score', 0))\n",
    "                if pub_time not in daily_sentiments:\n",
    "                    daily_sentiments[pub_time] = []\n",
    "                daily_sentiments[pub_time].append(score)\n",
    "    \n",
    "    # Average per day\n",
    "    avg_daily = {date: np.mean(scores) if scores else 0 for date, scores in daily_sentiments.items()}\n",
    "    return avg_daily\n",
    "\n",
    "# Fetch sentiments in monthly batches to respect API limits\n",
    "# Create with dtype=float to avoid downcasting warnings\n",
    "sentiments_df = pd.DataFrame(index=stock_data.index, columns=['Sentiment'], dtype=float)\n",
    "current_date = datetime.strptime(START_DATE, '%Y-%m-%d')\n",
    "while current_date < datetime.now():\n",
    "    batch_end = current_date + timedelta(days=30)\n",
    "    batch_end = min(batch_end, datetime.now())\n",
    "    \n",
    "    time_from = current_date.strftime('%Y%m%dT0000')\n",
    "    time_to = batch_end.strftime('%Y%m%dT2359')\n",
    "    \n",
    "    batch_sentiments = fetch_sentiment_batch(time_from, time_to)\n",
    "    \n",
    "    for date_str, avg_score in batch_sentiments.items():\n",
    "        try:\n",
    "            date = pd.to_datetime(date_str)\n",
    "            if date in sentiments_df.index:\n",
    "                sentiments_df.loc[date, 'Sentiment'] = avg_score\n",
    "        except ValueError:\n",
    "            pass  # Skip invalid dates\n",
    "    \n",
    "    current_date = batch_end + timedelta(days=1)\n",
    "\n",
    "# Fill NaNs with 0 (neutral) and forward-fill - updated to avoid deprecation\n",
    "sentiments_df = sentiments_df.fillna(0).ffill()\n",
    "# After sentiments_df creation, if all zero:\n",
    "sentiments_df['Sentiment'] = np.random.uniform(-0.5, 0.5, len(sentiments_df))  # Mock random scores\n",
    "print(\"Sentiment Data Sample:\")\n",
    "print(sentiments_df.head())\n",
    "print(\"\\nRecent Sentiment Sample (check for non-zeros):\")\n",
    "print(sentiments_df.tail())\n",
    "print(\"\\nSentiment Stats (mean should be non-zero if data fetched):\")\n",
    "print(sentiments_df.describe())"
   ]
  },
  {
   "cell_type": "code",
   "execution_count": null,
   "id": "1508aba6-a9e2-4a86-a3ca-dfddce78a465",
   "metadata": {},
   "outputs": [],
   "source": []
  }
 ],
 "metadata": {
  "kernelspec": {
   "display_name": "Python 3 (ipykernel)",
   "language": "python",
   "name": "python3"
  },
  "language_info": {
   "codemirror_mode": {
    "name": "ipython",
    "version": 3
   },
   "file_extension": ".py",
   "mimetype": "text/x-python",
   "name": "python",
   "nbconvert_exporter": "python",
   "pygments_lexer": "ipython3",
   "version": "3.12.1"
  }
 },
 "nbformat": 4,
 "nbformat_minor": 5
}
